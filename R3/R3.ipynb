{
 "cells": [
  {
   "cell_type": "markdown",
   "metadata": {},
   "source": [
    "# Pružnost a pevnost I. A - Referát číslo 3\n",
    "\n",
    "## Léto 2019/2020, cvičící Ing. Karel Vítek CSc.\n",
    "\n",
    "<img src=\"files/R3_zadani.png\">"
   ]
  },
  {
   "cell_type": "code",
   "execution_count": 2,
   "metadata": {},
   "outputs": [],
   "source": [
    "import numpy as np\n",
    "import matplotlib.pyplot as plt \n",
    "import matplotlib"
   ]
  },
  {
   "cell_type": "code",
   "execution_count": 26,
   "metadata": {},
   "outputs": [
    {
     "name": "stdout",
     "output_type": "stream",
     "text": [
      "Velikost F [N]:  7150\n",
      "Velikost a [mm]:  1220\n",
      "Delka L1 [mm]: 2440.0000000000005\n",
      "Delka L2 [mm]: 2113.101985234031\n",
      "Delka L3 [mm]: 2440.0000000000005\n",
      "Normalova sila v prutu 1 N1 [N]: -10725.0\n",
      "Normalova sila v prutu 2 N2 [N]: 18576.24491117621\n",
      "Normalova sila v prutu 3 N3 [N]: -10725.0\n",
      "Nejmensi dovoleny prurez A [mm^2]: 61.920816370587374\n",
      "u_B [m]:  0.0\n",
      "v_B [m]:  0.008779305955702093\n",
      "Uhel natoceni omega [radians] je roven: 0.004598076211353316\n",
      "Uhel natoceni omega [degrees] je roven: 0.2634503607900485\n",
      "1.9093298328440151\n"
     ]
    }
   ],
   "source": [
    "cislo = 21 # volim podle seznamu\n",
    "\n",
    "# volim treti variantu\n",
    "\n",
    "F = 4000 + 150*cislo     # [N]\n",
    "beta = np.radians(30)    # [rad]\n",
    "a = 800 + 20*cislo       # [mm]\n",
    "E = 200 * 10**9          # [Pa]\n",
    "sigmaD = 300 * 10**6     # [Pa]\n",
    "\n",
    "print(\"Velikost F [N]: \",F)         # sila F\n",
    "print(\"Velikost a [mm]: \",a)         # vzdalenost a\n",
    "\n",
    "''''''''''''''''''''''''''''''                  # vypocet delek prutu 1 L_1, prutu 2 L_2 a prutu 3 L_3\n",
    "\n",
    "L_1 = a/np.sin(beta)\n",
    "L_2 = a*np.sin(np.pi/2-beta)/np.sin(beta)\n",
    "L_3 = L_1\n",
    "\n",
    "print(\"Delka L1 [mm]:\", L_1)\n",
    "print(\"Delka L2 [mm]:\", L_2)\n",
    "print(\"Delka L3 [mm]:\", L_3)\n",
    "\n",
    "\n",
    "''''''''''''''''''''''''''''''                  # ram uvolneni\n",
    "\n",
    "N_1 = -3/2 * F\n",
    "N_2 = 3*F*np.sin(np.pi/2 - beta)\n",
    "N_3 = N_1\n",
    "\n",
    "print(\"Normalova sila v prutu 1 N1 [N]:\", N_1)\n",
    "print(\"Normalova sila v prutu 2 N2 [N]:\", N_2)\n",
    "print(\"Normalova sila v prutu 3 N3 [N]:\", N_3)\n",
    "\n",
    "\n",
    "''''''''''''''''''''''''''''''                  # dimenzovani prurezu\n",
    "\n",
    "A = N_2/sigmaD * 10**(6)\n",
    "\n",
    "print(\"Nejmensi dovoleny prurez A [mm^2]:\", A)\n",
    "\n",
    "\n",
    "''''''''''''''''''''''''''''''                  # vypocet posuvu bodu B\n",
    "\n",
    "\n",
    "'''horizontalni posuv bodu B u_B:'''\n",
    "\n",
    "u_B = 1/(E*A* 10**(-6))*(N_1*L_1 - N_3*L_3)* 10**(-3)\n",
    "\n",
    "print(\"u_B [m]: \", u_B)         # horizontalni posuv bodu B, u_B\n",
    "\n",
    "\n",
    "'''vertikalni posuv bodu B v_B:'''\n",
    "\n",
    "v_B = 1/(E*A* 10**(-6))*(-N_1*L_1/(2*np.sin(np.pi/3)) + N_2*L_2*2 - N_3*L_3/(2*np.sin(np.pi/3)))* 10**(-3)\n",
    "\n",
    "print(\"v_B [m]: \", v_B)         # vertikalni posuv bodu B, v_B\n",
    "\n",
    "\n",
    "'''uhel natoceni omega [rad]:'''\n",
    "\n",
    "omega = 1/(E*A* 10**(-6))*(-N_1*L_1/(2*a*np.sin(np.pi/3)) + N_2*L_2/a - N_3*L_3/(2*a*np.sin(np.pi/3)))\n",
    "\n",
    "print(\"Uhel natoceni omega [radians] je roven:\", omega)\n",
    "print(\"Uhel natoceni omega [degrees] je roven:\", np.degrees(omega))\n",
    "\n",
    "\n",
    "''''''''''''''''''''''''''''''                  # bodu rotace\n",
    "\n",
    "x = v_B/np.tan(omega)\n",
    "t = -N_3*L_3/(2*a*np.sin(np.pi/3))\n",
    "\n",
    "print(x)"
   ]
  }
 ],
 "metadata": {
  "kernelspec": {
   "display_name": "Python 3",
   "language": "python",
   "name": "python3"
  },
  "language_info": {
   "codemirror_mode": {
    "name": "ipython",
    "version": 3
   },
   "file_extension": ".py",
   "mimetype": "text/x-python",
   "name": "python",
   "nbconvert_exporter": "python",
   "pygments_lexer": "ipython3",
   "version": "3.7.3"
  }
 },
 "nbformat": 4,
 "nbformat_minor": 2
}
