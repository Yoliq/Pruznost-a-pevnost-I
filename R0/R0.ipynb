{
 "cells": [
  {
   "cell_type": "markdown",
   "metadata": {},
   "source": [
    "# Pružnost a pevnost I. A - Referát číslo 1\n",
    "\n",
    "## Léto 2019/2020, cvičící Ing. Karel Vítek CSc.\n",
    "\n",
    "<img src=\"files/R0_zadani.png\">"
   ]
  },
  {
   "cell_type": "code",
   "execution_count": 1,
   "metadata": {},
   "outputs": [],
   "source": [
    "import numpy as np\n",
    "import matplotlib.pyplot as plt \n",
    "import matplotlib"
   ]
  },
  {
   "cell_type": "code",
   "execution_count": 16,
   "metadata": {},
   "outputs": [
    {
     "name": "stdout",
     "output_type": "stream",
     "text": [
      "R_x je:  10142.838281776787\n",
      "R_y je:  -10666.666666666666\n",
      "R je:  14719.203313632652\n",
      "P je: -16418.053555546267\n",
      "Délka delšího prutu c9 je: 387\n",
      "Prodloužení prutu jedna je: -0.9382204543327342\n",
      "Prodloužení prutu dva je: -0.005637726777773134\n",
      "celkove prodlouzeni prutu je: -0.9438581811105073\n",
      "0.9949138801643059\n",
      "Omega [degrees] je: 9.544813978003292\n",
      "Bod Z se posune o [mm]: 1.0088806139013486\n"
     ]
    }
   ],
   "source": [
    "cislo = 21 # volim podle seznamu\n",
    "\n",
    "a = 2                        # [m]\n",
    "E = 200000000000             # [Pa]\n",
    "ro = 8000                    # [kg/m^3]\n",
    "g = 10                       # [m/s^2]\n",
    "alpha = 1.2 * 10**(-5)       # [K^(-1)]\n",
    "deltaT = 65                  # [°C]\n",
    "A = 30 * 10**(-6)            # [m^2]\n",
    "F = 8000                     # [N]\n",
    "b9 = 3                       # [m]\n",
    "beta = np.pi * 65/180        # []\n",
    "c9 = 80 * b9 + 7 * cislo     # [m]\n",
    "sigma_k = 300 * 10**6        # [Pa]\n",
    "\n",
    "''''''''''''''''''''''''''''''''''''''\n",
    "\n",
    "'''TRAM UVOLNENI'''\n",
    "\n",
    "R_x = 3*F*np.cos(beta)\n",
    "R_y = -4/3 * F\n",
    "R = (R_x**2 + R_y**2)**0.5\n",
    "P = F*(2/3 - 3*np.sin(beta))\n",
    "\n",
    "print(\"R_x je: \", R_x)       # x-ová složka reakce v zavěšení trámu za rám\n",
    "print(\"R_y je: \", R_y)       # y-ová složka reakce v zavěšení trámu za rám\n",
    "print(\"R je: \", R)           # celková reakce v zavěšení trámu za rám\n",
    "print(\"P je:\", P)            # reakce ze zavěšeného prutu na trám\n",
    "\n",
    "print(\"Délka delšího prutu c9 je:\", c9)\n",
    "R = 2/3 * F - 3*F*np.sin(beta)\n",
    "\n",
    "l1 = c9**2 * ro*g/(2*E) + c9*(P/(E*A) - c9*ro*g/E - b9*ro*g/(2*E) + alpha*deltaT/2)\n",
    "print(\"Prodloužení prutu jedna je:\", l1)\n",
    "\n",
    "l2 = ro*g/(4*E)*((c9+b9)**2 - c9**2) + b9*(P/(E*A)-b9*ro*g/(2*E) + alpha*deltaT)\n",
    "print(\"Prodloužení prutu dva je:\", l2)\n",
    "\n",
    "deltal = l1 + l2\n",
    "\n",
    "print('celkove prodlouzeni prutu je:', deltal)\n",
    "\n",
    "\n",
    "''''''''''''''''''''''''''''''''''''''''''    # naklopeni tramu a posun uzlu Z\n",
    "\n",
    "x = abs(deltal/np.cos(np.arctan(1/3)))\n",
    "print(x)\n",
    "\n",
    "omega = np.arcsin(x/(3*a))                    # uhel naklopeni tramu [rads]\n",
    "\n",
    "print('Omega [degrees] je:', np.degrees(omega))\n",
    "\n",
    "v_Z = 3*a*np.tan(omega)\n",
    "\n",
    "print('Bod Z se posune o [mm]:', v_Z)\n",
    "\n"
   ]
  }
 ],
 "metadata": {
  "kernelspec": {
   "display_name": "Python 3",
   "language": "python",
   "name": "python3"
  },
  "language_info": {
   "codemirror_mode": {
    "name": "ipython",
    "version": 3
   },
   "file_extension": ".py",
   "mimetype": "text/x-python",
   "name": "python",
   "nbconvert_exporter": "python",
   "pygments_lexer": "ipython3",
   "version": "3.7.3"
  }
 },
 "nbformat": 4,
 "nbformat_minor": 2
}
