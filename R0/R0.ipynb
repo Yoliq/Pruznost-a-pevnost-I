{
 "cells": [
  {
   "cell_type": "markdown",
   "metadata": {},
   "source": [
    "# Pružnost a pevnost I. A - Referát číslo 1\n",
    "\n",
    "## Léto 2019/2020, cvičící Ing. Karel Vítek CSc.\n",
    "\n",
    "<img src="Pruznost-a-pevnost-I\R0\R0_zadani.png">"
   ]
  },
  {
   "cell_type": "code",
   "execution_count": 2,
   "metadata": {},
   "outputs": [],
   "source": [
    "import numpy as np\n",
    "import matplotlib.pyplot as plt \n",
    "import matplotlib"
   ]
  },
  {
   "cell_type": "code",
   "execution_count": 17,
   "metadata": {},
   "outputs": [
    {
     "name": "stdout",
     "output_type": "stream",
     "text": [
      "R_x je:  10142.838281776787\n",
      "R_y je:  -10666.666666666666\n",
      "R je:  14719.203313632652\n",
      "P je: -16418.053555546267\n",
      "Délka delšího prutu c9 je: 387\n",
      "Prodloužení prutu jedna je: -0.8780806543327344\n",
      "Prodloužení prutu dva je: -0.005403726777773133\n",
      "Posunutí uzlu Z je: -0.8834843811105075\n",
      "Úhel naklopení omega je:  -41.314865748509106\n",
      "Maximální napětí sigma_max je rovno: -516188451.85154223\n"
     ]
    }
   ],
   "source": [
    "cislo = 21 # volim podle seznamu\n",
    "\n",
    "a = 2                        # [m]\n",
    "E = 200000000000             # [Pa]\n",
    "ro = 8000                    # [kg/m^3]\n",
    "g = 10                       # [m/s^2]\n",
    "alpha = 1.2 * 10**(-5)       # [K^(-1)]\n",
    "deltaT = 65                  # [°C]\n",
    "A = 30 * 10**(-6)            # [m^2]\n",
    "F = 8000                     # [N]\n",
    "b9 = 3                       # [m]\n",
    "beta = np.pi * 65/180        # []\n",
    "c9 = 80 * b9 + 7 * cislo     # [m]\n",
    "sigma_k = 300 * 10**6        # [Pa]\n",
    "\n",
    "''''''''''''''''''''''''''''''''''''''\n",
    "\n",
    "'''TRAM UVOLNENI'''\n",
    "\n",
    "R_x = 3*F*np.cos(beta)\n",
    "R_y = -4/3 * F\n",
    "R = (R_x**2 + R_y**2)**0.5\n",
    "P = F*(2/3 - 3*np.sin(beta))\n",
    "\n",
    "print(\"R_x je: \", R_x)       # x-ová složka reakce v zavěšení trámu za rám\n",
    "print(\"R_y je: \", R_y)       # y-ová složka reakce v zavěšení trámu za rám\n",
    "print(\"R je: \", R)           # celková reakce v zavěšení trámu za rám\n",
    "print(\"P je:\", P)            # reakce ze zavěšeného prutu na trám\n",
    "\n",
    "print(\"Délka delšího prutu c9 je:\", c9)\n",
    "R = 2/3 * F - 3*F*np.sin(beta)\n",
    "\n",
    "l1 = c9**2 * ro*g/(2*E) + c9*P/(A*E) + c9*alpha*deltaT/2\n",
    "print(\"Prodloužení prutu jedna je:\", l1)\n",
    "\n",
    "l2 = b9*(P/(E*A) + c9*ro*g/(2*E)) + ((c9+b9)**2 - c9**2)*ro*g/(4*E) + b9*alpha*deltaT\n",
    "print(\"Prodloužení prutu dva je:\", l2)\n",
    "\n",
    "u_Z = l1 + l2\n",
    "print(\"Posunutí uzlu Z je:\", u_Z)\n",
    "\n",
    "omega = np.degrees(np.arctan(l1 + l2 / (3*a)))\n",
    "print(\"Úhel naklopení omega je: \", omega)\n",
    "\n",
    "sigma_max = P/A + c9*ro*g + b9*ro*g/2\n",
    "print(\"Maximální napětí sigma_max je rovno:\", sigma_max)"
   ]
  }
 ],
 "metadata": {
  "kernelspec": {
   "display_name": "Python 3",
   "language": "python",
   "name": "python3"
  },
  "language_info": {
   "codemirror_mode": {
    "name": "ipython",
    "version": 3
   },
   "file_extension": ".py",
   "mimetype": "text/x-python",
   "name": "python",
   "nbconvert_exporter": "python",
   "pygments_lexer": "ipython3",
   "version": "3.7.3"
  }
 },
 "nbformat": 4,
 "nbformat_minor": 2
}
